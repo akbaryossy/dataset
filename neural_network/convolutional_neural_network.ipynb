{
  "nbformat": 4,
  "nbformat_minor": 0,
  "metadata": {
    "colab": {
      "name": "convolutional_neural_network.ipynb",
      "provenance": [],
      "include_colab_link": true
    },
    "kernelspec": {
      "name": "python3",
      "display_name": "Python 3"
    },
    "language_info": {
      "name": "python"
    }
  },
  "cells": [
    {
      "cell_type": "markdown",
      "metadata": {
        "id": "view-in-github",
        "colab_type": "text"
      },
      "source": [
        "<a href=\"https://colab.research.google.com/github/akbaryossy/dataset/blob/main/neural_network/convolutional_neural_network.ipynb\" target=\"_parent\"><img src=\"https://colab.research.google.com/assets/colab-badge.svg\" alt=\"Open In Colab\"/></a>"
      ]
    },
    {
      "cell_type": "code",
      "metadata": {
        "colab": {
          "base_uri": "https://localhost:8080/"
        },
        "id": "TYG8HEb3Dkpa",
        "outputId": "ba983252-4620-4653-b279-8f7528b0b739"
      },
      "source": [
        "# Download dataset\n",
        "!wget --no-check-certificate \\\n",
        "    https://storage.googleapis.com/mledu-datasets/cats_and_dogs_filtered.zip \\\n",
        "    -O /tmp/cats_and_dogs_filtered.zip"
      ],
      "execution_count": 1,
      "outputs": [
        {
          "output_type": "stream",
          "name": "stdout",
          "text": [
            "--2021-11-22 16:13:07--  https://storage.googleapis.com/mledu-datasets/cats_and_dogs_filtered.zip\n",
            "Resolving storage.googleapis.com (storage.googleapis.com)... 142.251.33.208, 172.217.12.240, 172.217.15.112, ...\n",
            "Connecting to storage.googleapis.com (storage.googleapis.com)|142.251.33.208|:443... connected.\n",
            "HTTP request sent, awaiting response... 200 OK\n",
            "Length: 68606236 (65M) [application/zip]\n",
            "Saving to: ‘/tmp/cats_and_dogs_filtered.zip’\n",
            "\n",
            "/tmp/cats_and_dogs_ 100%[===================>]  65.43M   145MB/s    in 0.5s    \n",
            "\n",
            "2021-11-22 16:13:08 (145 MB/s) - ‘/tmp/cats_and_dogs_filtered.zip’ saved [68606236/68606236]\n",
            "\n"
          ]
        }
      ]
    },
    {
      "cell_type": "code",
      "metadata": {
        "id": "4rtnNrFsEDIf"
      },
      "source": [
        "# Ekstrak dataset\n",
        "\n",
        "import os\n",
        "import zipfile\n",
        "\n",
        "local_zip = '/tmp/lidahbuaya_kemangi_filtered.zip'\n",
        "zip_ref = zipfile.ZipFile(local_zip, 'r')\n",
        "zip_ref.extractall('/tmp')\n",
        "zip_ref.close()"
      ],
      "execution_count": 2,
      "outputs": []
    },
    {
      "cell_type": "code",
      "metadata": {
        "id": "y9L_1kqnEEjc"
      },
      "source": [
        "# Definisikan path untuk data train dan data validation\n",
        "\n",
        "base_dir = '/tmp/lidahbuaya_kemangi_filtered'\n",
        "\n",
        "train_dir = os.path.join(base_dir, 'train')\n",
        "validation_dir = os.path.join(base_dir, 'validation')"
      ],
      "execution_count": 3,
      "outputs": []
    },
    {
      "cell_type": "code",
      "metadata": {
        "id": "9gc0BCSREF0M"
      },
      "source": [
        "import cv2\n",
        "import numpy as np\n",
        "\n",
        "# Gather data train\n",
        "train_data = []\n",
        "train_label = []\n",
        "for r, d, f in os.walk(train_dir):\n",
        "    for file in f:\n",
        "        if \".jpg\" in file:\n",
        "            imagePath = os.path.join(r, file)\n",
        "            image = cv2.imread(imagePath)\n",
        "            image = cv2.resize(image, (150,150))\n",
        "            train_data.append(image)\n",
        "            label = imagePath.split(os.path.sep)[-2]\n",
        "            train_label.append(label)\n",
        "\n",
        "train_data = np.array(train_data)\n",
        "train_label = np.array(train_label)"
      ],
      "execution_count": 4,
      "outputs": []
    },
    {
      "cell_type": "code",
      "metadata": {
        "id": "FuoKFhhVEG_O"
      },
      "source": [
        "# Gather data validation\n",
        "val_data = []\n",
        "val_label = []\n",
        "for r, d, f in os.walk(validation_dir):\n",
        "    for file in f:\n",
        "        if \".jpg\" in file:\n",
        "            imagePath = os.path.join(r, file)\n",
        "            image = cv2.imread(imagePath)\n",
        "            image = cv2.resize(image, (150,150))\n",
        "            val_data.append(image)\n",
        "            label = imagePath.split(os.path.sep)[-2]\n",
        "            val_label.append(label)\n",
        "\n",
        "val_data = np.array(val_data)\n",
        "val_label = np.array(val_label)"
      ],
      "execution_count": 5,
      "outputs": []
    },
    {
      "cell_type": "markdown",
      "metadata": {
        "id": "kiXbwrN3ELqv"
      },
      "source": [
        "<h3>Data Preprocessing</h3>"
      ]
    },
    {
      "cell_type": "code",
      "metadata": {
        "colab": {
          "base_uri": "https://localhost:8080/"
        },
        "id": "m5VhnvtrEI1I",
        "outputId": "cd7a227a-d476-4856-eebe-631f18de0f20"
      },
      "source": [
        "# Tampilkan shape dari data train dan data validation\n",
        "print(\"Train Data = \", train_data.shape)\n",
        "print(\"Train Label = \", train_label.shape)\n",
        "print(\"Validation Data = \", val_data.shape)\n",
        "print(\"Validation Label = \", val_label.shape)"
      ],
      "execution_count": 6,
      "outputs": [
        {
          "output_type": "stream",
          "name": "stdout",
          "text": [
            "Train Data =  (100, 150, 150, 3)\n",
            "Train Label =  (100,)\n",
            "Validation Data =  (100, 150, 150, 3)\n",
            "Validation Label =  (100,)\n"
          ]
        }
      ]
    },
    {
      "cell_type": "code",
      "metadata": {
        "colab": {
          "base_uri": "https://localhost:8080/"
        },
        "id": "q1LVp6dCENne",
        "outputId": "79658409-afc5-4a4f-f193-2e5e1059dca4"
      },
      "source": [
        "# Normalisasi dataset\n",
        "print(\"Data sebelum di-normalisasi \", train_data[0][0][0])\n",
        "\n",
        "x_train = train_data.astype('float32') / 255.0\n",
        "x_val = val_data.astype('float32') / 255.0\n",
        "print(\"Data setelah di-normalisasi \", x_train[0][0][0])"
      ],
      "execution_count": 7,
      "outputs": [
        {
          "output_type": "stream",
          "name": "stdout",
          "text": [
            "Data sebelum di-normalisasi  [255 255 255]\n",
            "Data setelah di-normalisasi  [1. 1. 1.]\n"
          ]
        }
      ]
    },
    {
      "cell_type": "code",
      "metadata": {
        "colab": {
          "base_uri": "https://localhost:8080/"
        },
        "id": "tc7FivC6EPhm",
        "outputId": "912300de-14fc-4cc8-ffba-fd82508e4e81"
      },
      "source": [
        "# Transformasi label encoder\n",
        "from sklearn.preprocessing import LabelEncoder\n",
        "\n",
        "print(\"Label sebelum di-encoder \", train_label[995:1005])\n",
        "\n",
        "lb = LabelEncoder()\n",
        "y_train = lb.fit_transform(train_label)\n",
        "y_val = lb.fit_transform(val_label)\n",
        "\n",
        "print(\"Label setelah di-encoder \", y_train[995:1005])"
      ],
      "execution_count": 8,
      "outputs": [
        {
          "output_type": "stream",
          "name": "stdout",
          "text": [
            "Label sebelum di-encoder  []\n",
            "Label setelah di-encoder  []\n"
          ]
        }
      ]
    },
    {
      "cell_type": "markdown",
      "metadata": {
        "id": "4jVWbOhOEzQJ"
      },
      "source": [
        "<h3>Definisikan Model</h3>"
      ]
    },
    {
      "cell_type": "code",
      "metadata": {
        "id": "usLiFiwAEvVb"
      },
      "source": [
        "from tensorflow.keras.models import Sequential\n",
        "from tensorflow.keras.layers import InputLayer, Dense, Conv2D, MaxPool2D, Flatten"
      ],
      "execution_count": 9,
      "outputs": []
    },
    {
      "cell_type": "code",
      "metadata": {
        "id": "rDwzxacpE1ei"
      },
      "source": [
        "# Feature Extraction Layer\n",
        "model = Sequential()\n",
        "\n",
        "model.add(InputLayer(input_shape=[150,150,3]))\n",
        "model.add(Conv2D(filters=16, kernel_size=3, strides=1, padding='same', activation='relu'))\n",
        "model.add(MaxPool2D(pool_size=2, padding='same'))\n",
        "model.add(Conv2D(filters=32, kernel_size=3, strides=1, padding='same', activation='relu'))\n",
        "model.add(MaxPool2D(pool_size=2, padding='same'))\n",
        "model.add(Conv2D(filters=64, kernel_size=3, strides=1, padding='same', activation='relu'))\n",
        "model.add(MaxPool2D(pool_size=2, padding='same'))\n",
        "model.add(Flatten())"
      ],
      "execution_count": 10,
      "outputs": []
    },
    {
      "cell_type": "code",
      "metadata": {
        "id": "Sud1AUF0E2k8"
      },
      "source": [
        "# Fully Connected Layer\n",
        "model.add(Dense(128, activation='relu'))\n",
        "model.add(Dense(1, activation='sigmoid'))"
      ],
      "execution_count": 11,
      "outputs": []
    },
    {
      "cell_type": "code",
      "metadata": {
        "colab": {
          "base_uri": "https://localhost:8080/"
        },
        "id": "XW-KE9ePE466",
        "outputId": "91f6d467-af54-4dc3-d854-77cbafec0e51"
      },
      "source": [
        "# Print model summary\n",
        "print(model.summary())"
      ],
      "execution_count": 12,
      "outputs": [
        {
          "output_type": "stream",
          "name": "stdout",
          "text": [
            "Model: \"sequential\"\n",
            "_________________________________________________________________\n",
            " Layer (type)                Output Shape              Param #   \n",
            "=================================================================\n",
            " conv2d (Conv2D)             (None, 150, 150, 16)      448       \n",
            "                                                                 \n",
            " max_pooling2d (MaxPooling2D  (None, 75, 75, 16)       0         \n",
            " )                                                               \n",
            "                                                                 \n",
            " conv2d_1 (Conv2D)           (None, 75, 75, 32)        4640      \n",
            "                                                                 \n",
            " max_pooling2d_1 (MaxPooling  (None, 38, 38, 32)       0         \n",
            " 2D)                                                             \n",
            "                                                                 \n",
            " conv2d_2 (Conv2D)           (None, 38, 38, 64)        18496     \n",
            "                                                                 \n",
            " max_pooling2d_2 (MaxPooling  (None, 19, 19, 64)       0         \n",
            " 2D)                                                             \n",
            "                                                                 \n",
            " flatten (Flatten)           (None, 23104)             0         \n",
            "                                                                 \n",
            " dense (Dense)               (None, 128)               2957440   \n",
            "                                                                 \n",
            " dense_1 (Dense)             (None, 1)                 129       \n",
            "                                                                 \n",
            "=================================================================\n",
            "Total params: 2,981,153\n",
            "Trainable params: 2,981,153\n",
            "Non-trainable params: 0\n",
            "_________________________________________________________________\n",
            "None\n"
          ]
        }
      ]
    },
    {
      "cell_type": "code",
      "metadata": {
        "colab": {
          "base_uri": "https://localhost:8080/"
        },
        "id": "Tais64D7E5Zo",
        "outputId": "4fc9b5c8-4c30-47e8-dd05-035ad3b8a883"
      },
      "source": [
        "# Compile model\n",
        "from tensorflow.keras.optimizers import Adam\n",
        "\n",
        "model.compile(optimizer=Adam(lr=0.001), \n",
        "              loss='binary_crossentropy', \n",
        "              metrics=['acc'])"
      ],
      "execution_count": 13,
      "outputs": [
        {
          "output_type": "stream",
          "name": "stderr",
          "text": [
            "/usr/local/lib/python3.7/dist-packages/keras/optimizer_v2/adam.py:105: UserWarning: The `lr` argument is deprecated, use `learning_rate` instead.\n",
            "  super(Adam, self).__init__(name, **kwargs)\n"
          ]
        }
      ]
    },
    {
      "cell_type": "markdown",
      "metadata": {
        "id": "NTNBH19iE8kt"
      },
      "source": [
        "<h3>Training Model</h3>"
      ]
    },
    {
      "cell_type": "code",
      "metadata": {
        "colab": {
          "base_uri": "https://localhost:8080/"
        },
        "id": "p4Vr8dyvE6pM",
        "outputId": "721a3bd3-848b-4de6-f678-f40ceb694044"
      },
      "source": [
        "H = model.fit(x_train, y_train, batch_size=20, epochs=15, validation_data=(x_val, y_val))"
      ],
      "execution_count": 14,
      "outputs": [
        {
          "output_type": "stream",
          "name": "stdout",
          "text": [
            "Epoch 1/15\n",
            "5/5 [==============================] - 4s 602ms/step - loss: 1.0682 - acc: 0.6400 - val_loss: 0.7558 - val_acc: 0.5000\n",
            "Epoch 2/15\n",
            "5/5 [==============================] - 3s 559ms/step - loss: 0.7108 - acc: 0.5000 - val_loss: 0.6740 - val_acc: 0.5200\n",
            "Epoch 3/15\n",
            "5/5 [==============================] - 3s 553ms/step - loss: 0.6711 - acc: 0.5200 - val_loss: 0.6395 - val_acc: 0.5200\n",
            "Epoch 4/15\n",
            "5/5 [==============================] - 3s 557ms/step - loss: 0.6057 - acc: 0.7900 - val_loss: 0.5571 - val_acc: 0.5200\n",
            "Epoch 5/15\n",
            "5/5 [==============================] - 3s 553ms/step - loss: 0.4270 - acc: 0.8000 - val_loss: 0.2588 - val_acc: 0.9800\n",
            "Epoch 6/15\n",
            "5/5 [==============================] - 3s 562ms/step - loss: 0.1655 - acc: 0.9800 - val_loss: 0.0605 - val_acc: 1.0000\n",
            "Epoch 7/15\n",
            "5/5 [==============================] - 3s 557ms/step - loss: 0.0413 - acc: 0.9900 - val_loss: 0.0079 - val_acc: 1.0000\n",
            "Epoch 8/15\n",
            "5/5 [==============================] - 3s 553ms/step - loss: 0.0127 - acc: 1.0000 - val_loss: 0.0042 - val_acc: 1.0000\n",
            "Epoch 9/15\n",
            "5/5 [==============================] - 3s 552ms/step - loss: 0.0018 - acc: 1.0000 - val_loss: 0.0011 - val_acc: 1.0000\n",
            "Epoch 10/15\n",
            "5/5 [==============================] - 3s 564ms/step - loss: 0.0058 - acc: 1.0000 - val_loss: 9.2158e-04 - val_acc: 1.0000\n",
            "Epoch 11/15\n",
            "5/5 [==============================] - 3s 555ms/step - loss: 2.2575e-04 - acc: 1.0000 - val_loss: 8.7650e-05 - val_acc: 1.0000\n",
            "Epoch 12/15\n",
            "5/5 [==============================] - 3s 556ms/step - loss: 1.8667e-04 - acc: 1.0000 - val_loss: 4.1147e-04 - val_acc: 1.0000\n",
            "Epoch 13/15\n",
            "5/5 [==============================] - 3s 558ms/step - loss: 5.3336e-04 - acc: 1.0000 - val_loss: 4.5637e-04 - val_acc: 1.0000\n",
            "Epoch 14/15\n",
            "5/5 [==============================] - 3s 563ms/step - loss: 3.9053e-04 - acc: 1.0000 - val_loss: 3.0158e-04 - val_acc: 1.0000\n",
            "Epoch 15/15\n",
            "5/5 [==============================] - 3s 551ms/step - loss: 2.1252e-04 - acc: 1.0000 - val_loss: 1.3636e-04 - val_acc: 1.0000\n"
          ]
        }
      ]
    },
    {
      "cell_type": "markdown",
      "metadata": {
        "id": "HuxjW35RFCZ6"
      },
      "source": [
        "<h3>Evaluasi Model</h3>"
      ]
    },
    {
      "cell_type": "code",
      "metadata": {
        "colab": {
          "base_uri": "https://localhost:8080/",
          "height": 299
        },
        "id": "1AM3ms3zE_AU",
        "outputId": "a5b36f7a-ba16-4a7f-d622-8a73725ee0df"
      },
      "source": [
        "%matplotlib inline\n",
        "\n",
        "import matplotlib.pyplot as plt\n",
        "\n",
        "plt.style.use(\"ggplot\")\n",
        "plt.figure()\n",
        "plt.plot(np.arange(0, 15), H.history[\"loss\"], label=\"train_loss\")\n",
        "plt.plot(np.arange(0, 15), H.history[\"val_loss\"], label=\"val_loss\")\n",
        "plt.title(\"Loss Plot\")\n",
        "plt.xlabel(\"Epoch #\")\n",
        "plt.ylabel(\"Loss\")\n",
        "plt.legend()\n",
        "plt.show()"
      ],
      "execution_count": 15,
      "outputs": [
        {
          "output_type": "display_data",
          "data": {
            "image/png": "[encoded data removed]",
            "text/plain": [
              "<Figure size 432x288 with 1 Axes>"
            ]
          },
          "metadata": {}
        }
      ]
    },
    {
      "cell_type": "code",
      "metadata": {
        "colab": {
          "base_uri": "https://localhost:8080/",
          "height": 299
        },
        "id": "q1SJWudcFEDL",
        "outputId": "fc4b9d48-adf5-4d21-c149-4ab51ab10380"
      },
      "source": [
        "plt.style.use(\"ggplot\")\n",
        "plt.figure()\n",
        "plt.plot(np.arange(0, 15), H.history[\"acc\"], label=\"train_acc\")\n",
        "plt.plot(np.arange(0, 15), H.history[\"val_acc\"], label=\"val_acc\")\n",
        "plt.title(\"Accuracy Plot\")\n",
        "plt.xlabel(\"Epoch #\")\n",
        "plt.ylabel(\"Acc\")\n",
        "plt.legend()\n",
        "plt.show()"
      ],
      "execution_count": 16,
      "outputs": [
        {
          "output_type": "display_data",
          "data": {
            "image/png": "[encoded data removed]",
            "text/plain": [
              "<Figure size 432x288 with 1 Axes>"
            ]
          },
          "metadata": {}
        }
      ]
    },
    {
      "cell_type": "code",
      "metadata": {
        "colab": {
          "base_uri": "https://localhost:8080/"
        },
        "id": "H_8mB3igFG-x",
        "outputId": "1f0f1872-da8f-47f4-84de-6e100065dd99"
      },
      "source": [
        "from sklearn.metrics import classification_report\n",
        "\n",
        "pred = model.predict(x_val)\n",
        "labels = (pred > 0.5).astype(np.int)\n",
        "\n",
        "print(classification_report(y_val, labels))"
      ],
      "execution_count": 17,
      "outputs": [
        {
          "output_type": "stream",
          "name": "stdout",
          "text": [
            "              precision    recall  f1-score   support\n",
            "\n",
            "           0       1.00      1.00      1.00        50\n",
            "           1       1.00      1.00      1.00        50\n",
            "\n",
            "    accuracy                           1.00       100\n",
            "   macro avg       1.00      1.00      1.00       100\n",
            "weighted avg       1.00      1.00      1.00       100\n",
            "\n"
          ]
        }
      ]
    }
  ]
}